{
 "cells": [
  {
   "cell_type": "code",
   "execution_count": null,
   "metadata": {},
   "outputs": [],
   "source": [
    "import astropy.units as u\n",
    "import matplotlib.pyplot as plt\n",
    "%matplotlib qt\n",
    "plt.style.use('nice.mplstyle')\n",
    "import numpy as np\n",
    "import scipy.stats as st\n",
    "\n",
    "from nustar_tools.spectra.grade_spectra import GradeCollection\n",
    "from nustar_tools.spectra.response import ResponseHandler\n",
    "\n",
    "import yaff.fitting as fitting\n",
    "from yaff import plotting as yap"
   ]
  },
  {
   "cell_type": "code",
   "execution_count": null,
   "metadata": {},
   "outputs": [],
   "source": [
    "def thermal(arg_dict: dict[str, object]):\n",
    "    # Imports need to be inside the model\n",
    "    # function for pickling/multiprocessing\n",
    "    from sunkit_spex.legacy import thermal\n",
    "\n",
    "    # The dict type annotation in the function\n",
    "    # declaration is ambiguous; so, annotate the variables here\n",
    "    ph_edges: np.ndarray = arg_dict['photon_energy_edges']\n",
    "    params: dict[str, fitting.Parameter] = arg_dict['parameters']\n",
    "\n",
    "    thermal_portion = thermal.thermal_emission(\n",
    "        energy_edges=ph_edges << u.keV,\n",
    "        temperature=params['temperature'].as_quantity(),\n",
    "        emission_measure=params['emission_measure'].as_quantity()\n",
    "    ).to_value(u.ph / u.s / u.keV / u.cm**2)\n",
    "\n",
    "    return thermal_portion"
   ]
  },
  {
   "cell_type": "code",
   "execution_count": null,
   "metadata": {},
   "outputs": [],
   "source": [
    "data_dir = 'nustar-data/'\n",
    "file_format = 'fpm{fpm}_g{grade}.pha'\n",
    "\n",
    "collection = GradeCollection(\n",
    "    f'{data_dir}{file_format}',\n",
    "    grades = ['0-4', '21-24'],\n",
    "    fpms = ['A', 'B']\n",
    ")\n",
    "collection.prepare_data()"
   ]
  },
  {
   "cell_type": "code",
   "execution_count": null,
   "metadata": {},
   "outputs": [],
   "source": [
    "rmf_file = f'{data_dir}/fpmA_g0-4.rmf'\n",
    "arf_file = f'{data_dir}/fpmA_g0-4.arf'\n",
    "handler = ResponseHandler(rmf_file, arf_file)"
   ]
  },
  {
   "cell_type": "code",
   "execution_count": null,
   "metadata": {},
   "outputs": [],
   "source": [
    "counts, edges = collection.data['A']['0-4'].spectrum\n",
    "srm = handler.srm\n",
    "\n",
    "dp = fitting.DataPacket(\n",
    "    counts=counts,\n",
    "    counts_error=np.sqrt(counts.value) << u.count,\n",
    "    effective_exposure=collection.data['A']['0-4'].exposure,\n",
    "    background_counts=0*counts,\n",
    "    background_counts_error=0*counts,\n",
    "    count_energy_edges=edges,\n",
    "    photon_energy_edges=handler.energy_edges,\n",
    "    response_matrix=srm\n",
    ")"
   ]
  },
  {
   "cell_type": "code",
   "execution_count": null,
   "metadata": {},
   "outputs": [],
   "source": [
    "# Set energy bounds to restrict where we care about the likelihood\n",
    "mids = dp.count_energy_edges[:-1] + np.diff(dp.count_energy_edges)/2\n",
    "energy_bounds = (mids >= 3) & (mids <= 5)\n",
    "\n",
    "def log_likelihood(data: fitting.DataPacket, model: np.ndarray):\n",
    "    # For Poisson likelihood, the model must comprise\n",
    "    # of integers, otherwise scipy shits itself\n",
    "    discrete_model = model.astype(int)\n",
    "\n",
    "    # Any zero-count bins cannot contribute to the log-likelihood for two reasons:\n",
    "    # 1. the PMF of a \"generalized\" Poisson distribution is 1 at zero, 0 elsewhere,\n",
    "    #    meaning ANY model value other than zero will screw up the log likelihood\n",
    "    # 2. even if the model IS exactly zero, it doesn't affect the log likelihood as ln(1) = 0.\n",
    "    restrict = (data.counts > 0) & energy_bounds\n",
    "    return st.poisson(data.counts).logpmf(discrete_model)[restrict].sum()\n",
    "\n",
    "# Define the parameters with their initial guesses (all frozen to start)\n",
    "starting_parameters = {\n",
    "    'temperature': fitting.Parameter(4 << u.MK, frozen=True),\n",
    "    'emission_measure': fitting.Parameter(100 << (1e42 * u.cm**-3), frozen=True),\n",
    "}\n",
    "\n",
    "# The priors we give are just \"bounds\" on\n",
    "# the physical values. They could be something\n",
    "# more interesting like a truncated normal,\n",
    "# or some other probability distribution.\n",
    "log_priors = {\n",
    "    'temperature': fitting.simple_bounds(0, 100),\n",
    "    'emission_measure': fitting.simple_bounds(0, 10000),\n",
    "}\n",
    "\n",
    "# Name the parameter groups so we can loop\n",
    "# over them later\n",
    "thermal_names = ['temperature', 'emission_measure']"
   ]
  },
  {
   "cell_type": "code",
   "execution_count": null,
   "metadata": {},
   "outputs": [],
   "source": [
    "fitta = fitting.BayesFitter(\n",
    "    data=dp,\n",
    "    model_function=thermal,\n",
    "    parameters=starting_parameters,\n",
    "    log_priors=log_priors,\n",
    "    log_likelihood=log_likelihood\n",
    ")"
   ]
  },
  {
   "cell_type": "code",
   "execution_count": null,
   "metadata": {},
   "outputs": [],
   "source": [
    "yap.plot_data_model(fitta)"
   ]
  },
  {
   "cell_type": "code",
   "execution_count": null,
   "metadata": {},
   "outputs": [],
   "source": [
    "print(\"minimize thermal\")\n",
    "for n in thermal_names:\n",
    "    fitta.parameters[n].frozen = False\n",
    "fitta = fitting.normal_minimize(fitta)"
   ]
  },
  {
   "cell_type": "code",
   "execution_count": null,
   "metadata": {},
   "outputs": [],
   "source": [
    "yap.plot_data_model(fitta, num_model_samples=30)"
   ]
  },
  {
   "cell_type": "code",
   "execution_count": null,
   "metadata": {},
   "outputs": [],
   "source": [
    "fitta.parameters"
   ]
  },
  {
   "cell_type": "code",
   "execution_count": null,
   "metadata": {},
   "outputs": [],
   "source": [
    "fitta.perform_fit({'nwalkers': 4}, {'nsteps': 2000, 'progress': True})"
   ]
  },
  {
   "cell_type": "code",
   "execution_count": null,
   "metadata": {},
   "outputs": [],
   "source": [
    "import lzma\n",
    "fitta.save('nustar-fit.dill.xz', open_func=lzma.open)"
   ]
  },
  {
   "cell_type": "code",
   "execution_count": null,
   "metadata": {},
   "outputs": [],
   "source": [
    "fitta.emplace_best_mcmc()"
   ]
  },
  {
   "cell_type": "code",
   "execution_count": null,
   "metadata": {},
   "outputs": [],
   "source": [
    "fitta.parameters"
   ]
  },
  {
   "cell_type": "code",
   "execution_count": null,
   "metadata": {},
   "outputs": [],
   "source": [
    "import importlib\n",
    "importlib.reload(yap)\n",
    "yap.plot_data_model(fitta, num_model_samples=20)\n",
    "plt.show()"
   ]
  },
  {
   "cell_type": "code",
   "execution_count": null,
   "metadata": {},
   "outputs": [],
   "source": [
    "fitta.parameters"
   ]
  },
  {
   "cell_type": "code",
   "execution_count": null,
   "metadata": {},
   "outputs": [],
   "source": [
    "from yaff import plotting as yap\n",
    "yap.plot_parameter_chains(fitta)"
   ]
  },
  {
   "cell_type": "code",
   "execution_count": null,
   "metadata": {},
   "outputs": [],
   "source": [
    "fig = plt.figure(layout='tight', figsize=(20, 20))\n",
    "yap.corner_plot(fitta, burnin=100, fig=fig)"
   ]
  },
  {
   "cell_type": "code",
   "execution_count": null,
   "metadata": {},
   "outputs": [],
   "source": []
  }
 ],
 "metadata": {
  "kernelspec": {
   "display_name": "Python 3",
   "language": "python",
   "name": "python3"
  },
  "language_info": {
   "codemirror_mode": {
    "name": "ipython",
    "version": 3
   },
   "file_extension": ".py",
   "mimetype": "text/x-python",
   "name": "python",
   "nbconvert_exporter": "python",
   "pygments_lexer": "ipython3",
   "version": "3.12.6"
  }
 },
 "nbformat": 4,
 "nbformat_minor": 2
}
