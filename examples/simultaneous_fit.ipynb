{
 "cells": [
  {
   "cell_type": "markdown",
   "metadata": {},
   "source": [
    "# Fit NuSTAR FPMA and FPMB simultaneously: single thermal component"
   ]
  },
  {
   "cell_type": "code",
   "execution_count": 2,
   "metadata": {},
   "outputs": [],
   "source": [
    "import os\n",
    "os.environ[\"OMP_NUM_THREADS\"] = \"1\"\n",
    "\n",
    "import astropy.units as u\n",
    "import matplotlib.pyplot as plt\n",
    "%matplotlib qt\n",
    "plt.style.use('nice.mplstyle')\n",
    "import numpy as np\n",
    "import scipy.stats as st\n",
    "\n",
    "from nustar_tools.spectra.grade_spectra import GradeCollection\n",
    "from nustar_tools.spectra.response import ResponseHandler\n",
    "\n",
    "import yaff.fitting as fitting\n",
    "import importlib\n",
    "importlib.reload(fitting)\n",
    "from yaff import plotting as yap"
   ]
  },
  {
   "cell_type": "code",
   "execution_count": 3,
   "metadata": {},
   "outputs": [],
   "source": [
    "def thermal(arg_dict: dict[str, object]):\n",
    "    # Imports need to be inside the model\n",
    "    # function for pickling/multiprocessing\n",
    "    from sunkit_spex.legacy import thermal\n",
    "\n",
    "    # The dict type annotation in the function\n",
    "    # declaration is ambiguous; so, annotate the variables here\n",
    "    ph_edges: np.ndarray = arg_dict['photon_energy_edges']\n",
    "    params: dict[str, fitting.Parameter] = arg_dict['parameters']\n",
    "\n",
    "    thermal_portion = thermal.thermal_emission(\n",
    "        energy_edges=ph_edges << u.keV,\n",
    "        temperature=params['temperature'].as_quantity(),\n",
    "        emission_measure=params['emission_measure'].as_quantity()\n",
    "    ).to_value(u.ph / u.s / u.keV / u.cm**2)\n",
    "\n",
    "    return thermal_portion"
   ]
  },
  {
   "cell_type": "code",
   "execution_count": 4,
   "metadata": {},
   "outputs": [],
   "source": [
    "data_dir = 'nustar-data/'\n",
    "file_format = 'fpm{fpm}_g{grade}.pha'\n",
    "\n",
    "collection = GradeCollection(\n",
    "    f'{data_dir}{file_format}',\n",
    "    grades = ['0-4'],\n",
    "    fpms = ['A', 'B']\n",
    ")\n",
    "collection.prepare_data()\n",
    "\n",
    "handlers = dict()\n",
    "for detector in ('A', 'B'):\n",
    "    rmf_file = f'{data_dir}/fpm{detector}_g0-4.rmf'\n",
    "    arf_file = f'{data_dir}/fpm{detector}_g0-4.arf'\n",
    "    handlers[detector] = ResponseHandler(rmf_file, arf_file)"
   ]
  },
  {
   "cell_type": "code",
   "execution_count": 5,
   "metadata": {},
   "outputs": [],
   "source": [
    "def log_likelihood(data: fitting.DataPacket, model: np.ndarray):\n",
    "    mids = data.count_energy_edges[:-1] +\\\n",
    "           np.diff(data.count_energy_edges)/2\n",
    "    # Set energy bounds to restrict where we care about the likelihood\n",
    "    energy_bounds = (mids >= 3) & (mids <= 5)\n",
    "\n",
    "    # For Poisson likelihood, the model must comprise\n",
    "    # of integers, otherwise scipy shits itself\n",
    "    discrete_model = model.astype(int)\n",
    "\n",
    "    # Any zero-count bins cannot contribute to the log-likelihood for two reasons:\n",
    "    # 1. a \"Poisson distribution\" with expected value zero has variance zero, so\n",
    "    #    pmf(x) = (1 if x == 0 else 0),\n",
    "    #    meaning ANY model value other than zero will screw up the log likelihood\n",
    "    # 2. even if the model IS exactly zero, it doesn't affect the log likelihood as\n",
    "    #    ln(p(0)) = ln(1) = 0.\n",
    "    restrict = (data.counts > 0) & energy_bounds\n",
    "    return st.poisson(data.counts).logpmf(discrete_model)[restrict].sum()\n",
    "\n",
    "# Define the parameters with their initial guesses (all frozen to start)\n",
    "starting_parameters = {\n",
    "    'temperature': fitting.Parameter(4 << u.MK, frozen=True),\n",
    "    'emission_measure': fitting.Parameter(100 << (1e42 * u.cm**-3), frozen=True),\n",
    "}\n",
    "\n",
    "# The priors we give are just \"bounds\" on\n",
    "# the physical values. They could be something\n",
    "# more interesting like a truncated normal,\n",
    "# or some other probability distribution.\n",
    "log_priors = {\n",
    "    'temperature': fitting.simple_bounds(0, 100),\n",
    "    'emission_measure': fitting.simple_bounds(0, 10000),\n",
    "}\n",
    "\n",
    "# Name the parameter groups so we can loop\n",
    "# over them later\n",
    "thermal_names = ['temperature', 'emission_measure']"
   ]
  },
  {
   "cell_type": "code",
   "execution_count": 6,
   "metadata": {},
   "outputs": [],
   "source": [
    "counts_a, edges_a = collection.data['A']['0-4'].spectrum\n",
    "\n",
    "# Construct fitters for both FPMA and FPMB individually\n",
    "# The model is the same but the data are different\n",
    "fitters = []\n",
    "for detector in ('A', 'B'):\n",
    "    counts, edges = collection.data[detector]['0-4'].spectrum\n",
    "    handler = handlers[detector]\n",
    "    srm = handler.srm\n",
    "\n",
    "    dp = fitting.DataPacket(\n",
    "        counts=counts,\n",
    "        counts_error=np.sqrt(counts.value) << u.count,\n",
    "        effective_exposure=collection.data[detector]['0-4'].exposure,\n",
    "        background_counts=0*counts,\n",
    "        background_counts_error=0*counts,\n",
    "        count_energy_edges=edges,\n",
    "        photon_energy_edges=handler.energy_edges,\n",
    "        response_matrix=srm\n",
    "    )\n",
    "\n",
    "    fitters.append(fitting.BayesFitter(\n",
    "        data=dp,\n",
    "        model_function=thermal,\n",
    "        parameters=starting_parameters,\n",
    "        log_priors=log_priors,\n",
    "        log_likelihood=log_likelihood\n",
    "    ))"
   ]
  },
  {
   "cell_type": "code",
   "execution_count": 7,
   "metadata": {},
   "outputs": [],
   "source": [
    "# Set up a composite fitter where both parameters are shared\n",
    "# between the models\n",
    "composite = fitting.CompositeBayesFitter(\n",
    "    individual_fitters=fitters,\n",
    "    shared_param_names=['temperature']\n",
    ")\n",
    "\n",
    "\n",
    "# The composite fitter \"steals\" parameters\n",
    "# Let both parameters vary individually\n",
    "composite.shared_params['temperature'].frozen = False\n",
    "# composite.shared_params['emission_measure'].frozen = False"
   ]
  },
  {
   "cell_type": "code",
   "execution_count": 8,
   "metadata": {},
   "outputs": [
    {
     "data": {
      "text/plain": [
       "{'shared': OrderedDict([('temperature', Parameter(4.00e+00, MK, False))]),\n",
       " 'fitter 0': OrderedDict([('emission_measure',\n",
       "               Parameter(1.00e+02, 1e+42 / cm3, True))]),\n",
       " 'fitter 1': OrderedDict([('emission_measure',\n",
       "               Parameter(1.00e+02, 1e+42 / cm3, True))])}"
      ]
     },
     "execution_count": 8,
     "metadata": {},
     "output_type": "execute_result"
    }
   ],
   "source": [
    "composite.parameters"
   ]
  },
  {
   "cell_type": "code",
   "execution_count": 9,
   "metadata": {},
   "outputs": [
    {
     "ename": "AttributeError",
     "evalue": "'str' object has no attribute 'frozen'",
     "output_type": "error",
     "traceback": [
      "\u001b[0;31m---------------------------------------------------------------------------\u001b[0m",
      "\u001b[0;31mAttributeError\u001b[0m                            Traceback (most recent call last)",
      "Cell \u001b[0;32mIn[9], line 1\u001b[0m\n\u001b[0;32m----> 1\u001b[0m \u001b[43mfitting\u001b[49m\u001b[38;5;241;43m.\u001b[39;49m\u001b[43mnormal_minimize\u001b[49m\u001b[43m(\u001b[49m\u001b[43mcomposite\u001b[49m\u001b[43m)\u001b[49m\n",
      "File \u001b[0;32m~/dev/yaff/yaff/fitting.py:586\u001b[0m, in \u001b[0;36mnormal_minimize\u001b[0;34m(fit_obj, **minimize_kw)\u001b[0m\n\u001b[1;32m    583\u001b[0m     warnings\u001b[38;5;241m.\u001b[39mwarn(\u001b[38;5;124m'\u001b[39m\u001b[38;5;124mminimization was not successful\u001b[39m\u001b[38;5;124m'\u001b[39m)\n\u001b[1;32m    585\u001b[0m \u001b[38;5;66;03m# Put the best parameters back into the fitting object\u001b[39;00m\n\u001b[0;32m--> 586\u001b[0m \u001b[43mfit_obj\u001b[49m\u001b[38;5;241;43m.\u001b[39;49m\u001b[43memplace_free_parameters\u001b[49m\u001b[43m(\u001b[49m\u001b[43mres\u001b[49m\u001b[38;5;241;43m.\u001b[39;49m\u001b[43mx\u001b[49m\u001b[43m)\u001b[49m\n\u001b[1;32m    588\u001b[0m \u001b[38;5;28;01mreturn\u001b[39;00m fit_obj\n",
      "File \u001b[0;32m~/dev/yaff/yaff/fitting.py:461\u001b[0m, in \u001b[0;36mCompositeBayesFitter.emplace_free_parameters\u001b[0;34m(self, vals)\u001b[0m\n\u001b[1;32m    458\u001b[0m \u001b[38;5;28;01mdef\u001b[39;00m \u001b[38;5;21memplace_free_parameters\u001b[39m(\u001b[38;5;28mself\u001b[39m, vals: \u001b[38;5;28mlist\u001b[39m[\u001b[38;5;28mfloat\u001b[39m]) \u001b[38;5;241m-\u001b[39m\u001b[38;5;241m>\u001b[39m \u001b[38;5;28;01mNone\u001b[39;00m:\n\u001b[1;32m    459\u001b[0m \u001b[38;5;250m    \u001b[39m\u001b[38;5;124;03m'''We don't care about names here because the\u001b[39;00m\n\u001b[1;32m    460\u001b[0m \u001b[38;5;124;03m       parameters are already sorted by (shared --> fitter0 --> fitter1 --> ...)'''\u001b[39;00m\n\u001b[0;32m--> 461\u001b[0m     \u001b[38;5;28;01mfor\u001b[39;00m (p, v) \u001b[38;5;129;01min\u001b[39;00m \u001b[38;5;28mzip\u001b[39m(\u001b[38;5;28;43mself\u001b[39;49m\u001b[38;5;241;43m.\u001b[39;49m\u001b[43mflat_free_parameters\u001b[49m, vals):\n\u001b[1;32m    462\u001b[0m         p\u001b[38;5;241m.\u001b[39mvalue \u001b[38;5;241m=\u001b[39m v\n",
      "File \u001b[0;32m~/dev/yaff/yaff/fitting.py:533\u001b[0m, in \u001b[0;36mCompositeBayesFitter.flat_free_parameters\u001b[0;34m(self)\u001b[0m\n\u001b[1;32m    531\u001b[0m ret \u001b[38;5;241m=\u001b[39m \u001b[38;5;28mlist\u001b[39m(p \u001b[38;5;28;01mfor\u001b[39;00m p \u001b[38;5;129;01min\u001b[39;00m \u001b[38;5;28mself\u001b[39m\u001b[38;5;241m.\u001b[39mshared_params\u001b[38;5;241m.\u001b[39mvalues() \u001b[38;5;28;01mif\u001b[39;00m \u001b[38;5;129;01mnot\u001b[39;00m p\u001b[38;5;241m.\u001b[39mfrozen)\n\u001b[1;32m    532\u001b[0m \u001b[38;5;28;01mfor\u001b[39;00m f \u001b[38;5;129;01min\u001b[39;00m \u001b[38;5;28mself\u001b[39m\u001b[38;5;241m.\u001b[39mfitters:\n\u001b[0;32m--> 533\u001b[0m     ret \u001b[38;5;241m+\u001b[39m\u001b[38;5;241m=\u001b[39m \u001b[38;5;28;43mlist\u001b[39;49m\u001b[43m(\u001b[49m\u001b[43mp\u001b[49m\u001b[43m \u001b[49m\u001b[38;5;28;43;01mfor\u001b[39;49;00m\u001b[43m \u001b[49m\u001b[43mp\u001b[49m\u001b[43m \u001b[49m\u001b[38;5;129;43;01min\u001b[39;49;00m\u001b[43m \u001b[49m\u001b[43mf\u001b[49m\u001b[38;5;241;43m.\u001b[39;49m\u001b[43mparameters\u001b[49m\u001b[43m \u001b[49m\u001b[38;5;28;43;01mif\u001b[39;49;00m\u001b[43m \u001b[49m\u001b[38;5;129;43;01mnot\u001b[39;49;00m\u001b[43m \u001b[49m\u001b[43mp\u001b[49m\u001b[38;5;241;43m.\u001b[39;49m\u001b[43mfrozen\u001b[49m\u001b[43m)\u001b[49m\n\u001b[1;32m    534\u001b[0m \u001b[38;5;28;01mreturn\u001b[39;00m ret\n",
      "File \u001b[0;32m~/dev/yaff/yaff/fitting.py:533\u001b[0m, in \u001b[0;36m<genexpr>\u001b[0;34m(.0)\u001b[0m\n\u001b[1;32m    531\u001b[0m ret \u001b[38;5;241m=\u001b[39m \u001b[38;5;28mlist\u001b[39m(p \u001b[38;5;28;01mfor\u001b[39;00m p \u001b[38;5;129;01min\u001b[39;00m \u001b[38;5;28mself\u001b[39m\u001b[38;5;241m.\u001b[39mshared_params\u001b[38;5;241m.\u001b[39mvalues() \u001b[38;5;28;01mif\u001b[39;00m \u001b[38;5;129;01mnot\u001b[39;00m p\u001b[38;5;241m.\u001b[39mfrozen)\n\u001b[1;32m    532\u001b[0m \u001b[38;5;28;01mfor\u001b[39;00m f \u001b[38;5;129;01min\u001b[39;00m \u001b[38;5;28mself\u001b[39m\u001b[38;5;241m.\u001b[39mfitters:\n\u001b[0;32m--> 533\u001b[0m     ret \u001b[38;5;241m+\u001b[39m\u001b[38;5;241m=\u001b[39m \u001b[38;5;28mlist\u001b[39m(p \u001b[38;5;28;01mfor\u001b[39;00m p \u001b[38;5;129;01min\u001b[39;00m f\u001b[38;5;241m.\u001b[39mparameters \u001b[38;5;28;01mif\u001b[39;00m \u001b[38;5;129;01mnot\u001b[39;00m \u001b[43mp\u001b[49m\u001b[38;5;241;43m.\u001b[39;49m\u001b[43mfrozen\u001b[49m)\n\u001b[1;32m    534\u001b[0m \u001b[38;5;28;01mreturn\u001b[39;00m ret\n",
      "\u001b[0;31mAttributeError\u001b[0m: 'str' object has no attribute 'frozen'"
     ]
    }
   ],
   "source": [
    "fitting.normal_minimize(composite)"
   ]
  },
  {
   "cell_type": "code",
   "execution_count": 9,
   "metadata": {},
   "outputs": [
    {
     "data": {
      "text/plain": [
       "{'shared': OrderedDict([('temperature', Parameter(3.64e+00, MK, False)),\n",
       "              ('emission_measure', Parameter(1.05e+02, 1e+42 / cm3, False))]),\n",
       " 'fitter 0': OrderedDict(),\n",
       " 'fitter 1': OrderedDict()}"
      ]
     },
     "execution_count": 9,
     "metadata": {},
     "output_type": "execute_result"
    }
   ],
   "source": [
    "composite.parameters"
   ]
  },
  {
   "cell_type": "code",
   "execution_count": 10,
   "metadata": {},
   "outputs": [
    {
     "name": "stderr",
     "output_type": "stream",
     "text": [
      "100%|██████████| 300/300 [01:38<00:00,  3.03it/s]\n"
     ]
    }
   ],
   "source": [
    "composite.run_emcee({'nwalkers': 16}, {'nsteps': 300, 'progress': True})"
   ]
  },
  {
   "cell_type": "code",
   "execution_count": 1,
   "metadata": {},
   "outputs": [
    {
     "ename": "NameError",
     "evalue": "name 'importlib' is not defined",
     "output_type": "error",
     "traceback": [
      "\u001b[0;31m---------------------------------------------------------------------------\u001b[0m",
      "\u001b[0;31mNameError\u001b[0m                                 Traceback (most recent call last)",
      "Cell \u001b[0;32mIn[1], line 1\u001b[0m\n\u001b[0;32m----> 1\u001b[0m \u001b[43mimportlib\u001b[49m\u001b[38;5;241m.\u001b[39mreload(yap)\n\u001b[1;32m      2\u001b[0m names, params \u001b[38;5;241m=\u001b[39m composite\u001b[38;5;241m.\u001b[39mflat_named_free_parameters\n\u001b[1;32m      3\u001b[0m yap\u001b[38;5;241m.\u001b[39mplot_parameter_chains(composite, names, params)\n",
      "\u001b[0;31mNameError\u001b[0m: name 'importlib' is not defined"
     ]
    }
   ],
   "source": [
    "importlib.reload(yap)\n",
    "names, params = composite.flat_named_free_parameters\n",
    "yap.plot_parameter_chains(composite, names, params)"
   ]
  },
  {
   "cell_type": "code",
   "execution_count": null,
   "metadata": {},
   "outputs": [],
   "source": [
    "# Flatten the parameter names and units into a long list\n",
    "# names = composite.all_param_names\n",
    "# units = composite.all_param_units\n",
    "\n",
    "best_t, best_em = np.mean(composite.emcee_sampler.flatchain, axis=0)\n",
    "\n",
    "for fitter in fitters:\n",
    "    fitter.parameters['temperature'].value = best_t\n",
    "    fitter.parameters['emission_measure'].value = best_em\n",
    "\n",
    "fita, fitb = fitters\n",
    "\n",
    "fig = plt.figure(figsize=(16, 6))\n",
    "figa, figb = fig.subfigures(nrows=1, ncols=2)\n",
    "\n",
    "yap.plot_data_model(fita, fig=figa)\n",
    "yap.plot_data_model(fitb, fig=figb)"
   ]
  },
  {
   "cell_type": "code",
   "execution_count": null,
   "metadata": {},
   "outputs": [],
   "source": [
    "best_t, best_em"
   ]
  },
  {
   "cell_type": "code",
   "execution_count": null,
   "metadata": {},
   "outputs": [],
   "source": []
  }
 ],
 "metadata": {
  "kernelspec": {
   "display_name": ".venv",
   "language": "python",
   "name": "python3"
  },
  "language_info": {
   "codemirror_mode": {
    "name": "ipython",
    "version": 3
   },
   "file_extension": ".py",
   "mimetype": "text/x-python",
   "name": "python",
   "nbconvert_exporter": "python",
   "pygments_lexer": "ipython3",
   "version": "3.13.0"
  }
 },
 "nbformat": 4,
 "nbformat_minor": 2
}
