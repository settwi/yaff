{
 "cells": [
  {
   "cell_type": "markdown",
   "metadata": {},
   "source": [
    "# Fit NuSTAR FPMA and FPMB simultaneously: single thermal component"
   ]
  },
  {
   "cell_type": "code",
   "execution_count": null,
   "metadata": {},
   "outputs": [],
   "source": [
    "import os\n",
    "os.environ[\"OMP_NUM_THREADS\"] = \"1\"\n",
    "\n",
    "import astropy.units as u\n",
    "import matplotlib.pyplot as plt\n",
    "%matplotlib qt\n",
    "plt.style.use('nice.mplstyle')\n",
    "import numpy as np\n",
    "import scipy.stats as st\n",
    "\n",
    "from nustar_tools.spectra.grade_spectra import GradeCollection\n",
    "from nustar_tools.spectra.response import ResponseHandler\n",
    "\n",
    "import yaff.fitting as fitting\n",
    "import importlib\n",
    "importlib.reload(fitting)\n",
    "from yaff import plotting as yap"
   ]
  },
  {
   "cell_type": "code",
   "execution_count": null,
   "metadata": {},
   "outputs": [],
   "source": [
    "def thermal(arg_dict: dict[str, object]):\n",
    "    # Imports need to be inside the model\n",
    "    # function for pickling/multiprocessing\n",
    "    from sunkit_spex.legacy import thermal\n",
    "\n",
    "    # The dict type annotation in the function\n",
    "    # declaration is ambiguous; so, annotate the variables here\n",
    "    ph_edges: np.ndarray = arg_dict['photon_energy_edges']\n",
    "    params: dict[str, fitting.Parameter] = arg_dict['parameters']\n",
    "\n",
    "    thermal_portion = thermal.thermal_emission(\n",
    "        energy_edges=ph_edges << u.keV,\n",
    "        temperature=params['temperature'].as_quantity(),\n",
    "        emission_measure=params['emission_measure'].as_quantity()\n",
    "    ).to_value(u.ph / u.s / u.keV / u.cm**2)\n",
    "\n",
    "    return thermal_portion"
   ]
  },
  {
   "cell_type": "code",
   "execution_count": null,
   "metadata": {},
   "outputs": [],
   "source": [
    "data_dir = 'nustar-data/'\n",
    "file_format = 'fpm{fpm}_g{grade}.pha'\n",
    "\n",
    "collection = GradeCollection(\n",
    "    f'{data_dir}{file_format}',\n",
    "    grades = ['0-4'],\n",
    "    fpms = ['A', 'B']\n",
    ")\n",
    "collection.prepare_data()\n",
    "\n",
    "handlers = dict()\n",
    "for detector in ('A', 'B'):\n",
    "    rmf_file = f'{data_dir}/fpm{detector}_g0-4.rmf'\n",
    "    arf_file = f'{data_dir}/fpm{detector}_g0-4.arf'\n",
    "    handlers[detector] = ResponseHandler(rmf_file, arf_file)"
   ]
  },
  {
   "cell_type": "code",
   "execution_count": null,
   "metadata": {},
   "outputs": [],
   "source": [
    "def log_likelihood(data: fitting.DataPacket, model: np.ndarray):\n",
    "    mids = data.count_energy_edges[:-1] +\\\n",
    "           np.diff(data.count_energy_edges)/2\n",
    "    # Set energy bounds to restrict where we care about the likelihood\n",
    "    energy_bounds = (mids >= 3) & (mids <= 5)\n",
    "\n",
    "    # For Poisson likelihood, the model must comprise\n",
    "    # of integers, otherwise scipy shits itself\n",
    "    discrete_model = model.astype(int)\n",
    "\n",
    "    # Any zero-count bins cannot contribute to the log-likelihood for two reasons:\n",
    "    # 1. a \"Poisson distribution\" with expected value zero has variance zero, so\n",
    "    #    pmf(x) = (1 if x == 0 else 0),\n",
    "    #    meaning ANY model value other than zero will screw up the log likelihood\n",
    "    # 2. even if the model IS exactly zero, it doesn't affect the log likelihood as\n",
    "    #    ln(p(0)) = ln(1) = 0.\n",
    "    restrict = (data.counts > 0) & energy_bounds\n",
    "    return st.poisson(data.counts).logpmf(discrete_model)[restrict].sum()\n",
    "\n",
    "# Define the parameters with their initial guesses (all frozen to start)\n",
    "starting_parameters = {\n",
    "    'temperature': fitting.Parameter(4 << u.MK, frozen=True),\n",
    "    'emission_measure': fitting.Parameter(100 << (1e42 * u.cm**-3), frozen=True),\n",
    "}\n",
    "\n",
    "# The priors we give are just \"bounds\" on\n",
    "# the physical values. They could be something\n",
    "# more interesting like a truncated normal,\n",
    "# or some other probability distribution.\n",
    "log_priors = {\n",
    "    'temperature': fitting.simple_bounds(0, 100),\n",
    "    'emission_measure': fitting.simple_bounds(0, 10000),\n",
    "}\n",
    "\n",
    "# Name the parameter groups so we can loop\n",
    "# over them later\n",
    "thermal_names = ['temperature', 'emission_measure']"
   ]
  },
  {
   "cell_type": "code",
   "execution_count": null,
   "metadata": {},
   "outputs": [],
   "source": [
    "counts_a, edges_a = collection.data['A']['0-4'].spectrum\n",
    "\n",
    "fitters = []\n",
    "for detector in ('A', 'B'):\n",
    "    counts, edges = collection.data[detector]['0-4'].spectrum\n",
    "    handler = handlers[detector]\n",
    "    srm = handler.srm\n",
    "\n",
    "    dp = fitting.DataPacket(\n",
    "        counts=counts,\n",
    "        counts_error=np.sqrt(counts.value) << u.count,\n",
    "        effective_exposure=collection.data[detector]['0-4'].exposure,\n",
    "        background_counts=0*counts,\n",
    "        background_counts_error=0*counts,\n",
    "        count_energy_edges=edges,\n",
    "        photon_energy_edges=handler.energy_edges,\n",
    "        response_matrix=srm\n",
    "    )\n",
    "\n",
    "    fitters.append(fitting.BayesFitter(\n",
    "        data=dp,\n",
    "        model_function=thermal,\n",
    "        parameters=starting_parameters,\n",
    "        log_priors=log_priors,\n",
    "        log_likelihood=log_likelihood\n",
    "    ))"
   ]
  },
  {
   "cell_type": "code",
   "execution_count": null,
   "metadata": {},
   "outputs": [],
   "source": [
    "# Set up a composite fitter where both parameters are shared\n",
    "# between the models\n",
    "composite = fitting.CompositeBayesFitter(\n",
    "    individual_fitters=fitters,\n",
    "    shared_param_names=['temperature', 'emission_measure']\n",
    ")\n",
    "\n",
    "# Let both parameters vary individually\n",
    "composite.shared_params['temperature'].frozen = False\n",
    "composite.shared_params['emission_measure'].frozen = False"
   ]
  },
  {
   "cell_type": "code",
   "execution_count": null,
   "metadata": {},
   "outputs": [],
   "source": [
    "composite.parameters"
   ]
  },
  {
   "cell_type": "code",
   "execution_count": null,
   "metadata": {},
   "outputs": [],
   "source": [
    "fitting.normal_minimize(composite)"
   ]
  },
  {
   "cell_type": "code",
   "execution_count": null,
   "metadata": {},
   "outputs": [],
   "source": [
    "composite.parameters"
   ]
  },
  {
   "cell_type": "code",
   "execution_count": null,
   "metadata": {},
   "outputs": [],
   "source": [
    "composite.run_emcee({'nwalkers': 16}, {'nsteps': 300, 'progress': True})"
   ]
  },
  {
   "cell_type": "code",
   "execution_count": null,
   "metadata": {},
   "outputs": [],
   "source": [
    "chain = composite.emcee_sampler.flatchain.T\n",
    "fig, axs = plt.subplots(nrows=2)\n",
    "axs[0].plot(chain[0])\n",
    "axs[1].plot(chain[1])"
   ]
  },
  {
   "cell_type": "code",
   "execution_count": null,
   "metadata": {},
   "outputs": [],
   "source": [
    "# Flatten the parameter names and units into a long list\n",
    "# names = composite.all_param_names\n",
    "# units = composite.all_param_units\n",
    "\n",
    "best_t, best_em = np.mean(composite.emcee_sampler.flatchain, axis=0)\n",
    "\n",
    "for fitter in fitters:\n",
    "    fitter.parameters['temperature'].value = best_t\n",
    "    fitter.parameters['emission_measure'].value = best_em\n",
    "\n",
    "fita, fitb = fitters\n",
    "\n",
    "fig = plt.figure(figsize=(16, 6))\n",
    "figa, figb = fig.subfigures(nrows=1, ncols=2)\n",
    "\n",
    "yap.plot_data_model(fita, fig=figa)\n",
    "yap.plot_data_model(fitb, fig=figb)"
   ]
  },
  {
   "cell_type": "code",
   "execution_count": null,
   "metadata": {},
   "outputs": [],
   "source": [
    "best_t, best_em"
   ]
  },
  {
   "cell_type": "code",
   "execution_count": null,
   "metadata": {},
   "outputs": [],
   "source": []
  }
 ],
 "metadata": {
  "kernelspec": {
   "display_name": "Python 3",
   "language": "python",
   "name": "python3"
  },
  "language_info": {
   "codemirror_mode": {
    "name": "ipython",
    "version": 3
   },
   "file_extension": ".py",
   "mimetype": "text/x-python",
   "name": "python",
   "nbconvert_exporter": "python",
   "pygments_lexer": "ipython3",
   "version": "3.12.6"
  }
 },
 "nbformat": 4,
 "nbformat_minor": 2
}
