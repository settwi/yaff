{
 "cells": [
  {
   "cell_type": "markdown",
   "id": "ebadebed",
   "metadata": {},
   "source": [
    "# SoLEXS aboard Aditya-L1: M-class flare from 08 August 2025\n",
    "[SoLEXS](https://link.springer.com/article/10.1007/s11207-025-02494-0#auth-Abhijit-Adoni-Aff1) \n",
    "    is the low-energy (~3-20 keV) spectrometer aboard Aditya-L1.\n",
    "\n",
    "Here we fit a thermal bremsstrahlung model to SoLEXS SDD2 with varied abundances.\n",
    "Because the count rate is relatively high,\n",
    "    we require a gain correction.\n",
    "The gain shift is implemented by interpolating the count-space model energy bins.\n",
    "This is distinct from Xspec,\n",
    "    which interpolates the effective area curve in photon space,\n",
    "    but the outcome is effectively the same.\n",
    "\n",
    "First,\n",
    "    we load in the data and define models.\n",
    "Then,\n",
    "    we do some initial gain fits using Levenberg-Marquadt minimization.\n",
    "Finally, we run MCMC on the parameters to get uncertainties and correlations."
   ]
  },
  {
   "cell_type": "code",
   "execution_count": null,
   "id": "5606f4d6",
   "metadata": {},
   "outputs": [],
   "source": [
    "import pprint\n",
    "from astropy.io import fits\n",
    "import astropy.time as atime\n",
    "import numpy as np\n",
    "import astropy.units as u\n",
    "import astropy.visualization as vis\n",
    "\n",
    "from yaff.extern import solexs\n",
    "from yaff import plotting as yap\n",
    "\n",
    "import matplotlib.pyplot as plt\n",
    "\n",
    "plt.style.use('nice.mplstyle')\n",
    "from sunkit_spex.legacy import thermal\n",
    "\n",
    "# Silence division errors\n",
    "_ = np.seterr(divide='ignore', invalid='ignore')"
   ]
  },
  {
   "cell_type": "markdown",
   "id": "9c5c957d",
   "metadata": {},
   "source": [
    "## Fetch SoLEXS data from their [data server](https://pradan.issdc.gov.in/al1/protected/payload.xhtml)\n",
    "SoLEXS data is served as daily `.zip` files which are further processed in a later step using `solexs-tools`.\n",
    "\n",
    "Here we're looking at data from 2025 August 08.\n",
    "\n",
    "We follow the procedures outlined in the [user manual](https://pradan.issdc.gov.in/al1/protected/downloadFile/solexs/SoLEXS-UserManual.pdf)\n",
    "to select and prepare the data.\n",
    "## Read in a light curve file for SDD2 and pick event/background intervals"
   ]
  },
  {
   "cell_type": "code",
   "execution_count": null,
   "id": "96ca7d37",
   "metadata": {},
   "outputs": [],
   "source": [
    "base = \"AL1_SLX_L1_20250808_v1.0/SDD2\"\n",
    "lc_file = \"AL1_SOLEXS_20250808_SDD2_L1.lc.gz\"\n",
    "with fits.open(f\"{base}/{lc_file}\") as lcf:\n",
    "    lc_dat = lcf[1]\n",
    "    dt = lc_dat.header['TIMEDEL'] << u.Unit(lc_dat.header['TIMEUNIT'])\n",
    "    start_time = atime.Time(lc_dat.header['TSTART'], format='unix')\n",
    "    lightcurve_all_counts = lc_dat.data['COUNTS'].astype(float)\n",
    "    lightcurve_time_bins = start_time + np.arange(lightcurve_all_counts.size + 1) * dt"
   ]
  },
  {
   "cell_type": "code",
   "execution_count": null,
   "id": "7513ee64",
   "metadata": {},
   "outputs": [],
   "source": [
    "fig, ax = plt.subplots()\n",
    "ax.stairs(lightcurve_all_counts, lightcurve_time_bins.datetime, color='black')\n",
    "\n",
    "analysis_interval = atime.Time(['2025-08-08T03:50:00Z', '2025-08-08T03:52:00Z'])\n",
    "bkg_interval = atime.Time(['2025-08-08T03:28:00Z', '2025-08-08T03:29:00Z'])\n",
    "\n",
    "ax.axvspan(\n",
    "    *analysis_interval.datetime,\n",
    "    color='green',\n",
    "    alpha=0.4,\n",
    "    label='analysis interval'\n",
    ")\n",
    "ax.axvspan(\n",
    "    *bkg_interval.datetime,\n",
    "    color='purple',\n",
    "    alpha=0.4,\n",
    "    label='bkg interval'\n",
    ")\n",
    "\n",
    "# Plot a segment around the interval of interest\n",
    "plot_buffer = 30 << u.min\n",
    "ax.set(\n",
    "    yscale='log',\n",
    "    ylabel='counts',\n",
    "    title='solexs all counts for day',\n",
    "    xlim=(\n",
    "        (analysis_interval[0] - plot_buffer).datetime,\n",
    "        (analysis_interval[1] + plot_buffer).datetime,\n",
    "    )\n",
    ")\n",
    "\n",
    "ax.legend()\n",
    "\n",
    "plt.show()"
   ]
  },
  {
   "cell_type": "markdown",
   "id": "55de6221",
   "metadata": {},
   "source": [
    "## Generate the SoLEXS spectrum and response files\n",
    "The [`solexs-tools`](https://pradan.issdc.gov.in/al1/protected/downloadFile/solexs/solexs_tools-1.1.tar.gz) package may be downloaded from their data distribution websitie and installed into a Python environment.\n",
    "The setup is outlined in the [user manual](https://pradan.issdc.gov.in/al1/protected/downloadFile/solexs/SoLEXS-UserManual.pdf).\n",
    "Install the tools before continuing. It is recommended to use a virtual environment for this purpose.\n",
    "\n",
    "Using the time intervals we selected before,\n",
    "you can run the following `bash` snippets to slice the SoLEXS data into spectrum files.\n",
    "During the slicing,\n",
    "    the effective area (ARF) and energy redistribution (RMF) file paths will be printed\n",
    "\n",
    "### Step 1: flare data\n",
    "```bash\n",
    "t1=\"2025-08-08T03:50:00\"\n",
    "t1=$(echo $(solexs-utc2time \"$t1\") | cut -d' ' -f3)\n",
    "\n",
    "t2=\"2025-08-08T03:52:00\"\n",
    "t2=$(echo $(solexs-utc2time \"$t2\") | cut -d' ' -f3)\n",
    "\n",
    "# Generate a spectrum from the L1 data files\n",
    "spec_fn=\"AL1_SLX_L1_20250808_v1.0/SDD2/AL1_SOLEXS_20250808_SDD2_L1.pi.gz\"\n",
    "gti_fn=\"AL1_SLX_L1_20250808_v1.0/SDD2/AL1_SOLEXS_20250808_SDD2_L1.gti.gz\"\n",
    "\n",
    "solexs-genspec -i \"$spec_fn\" \\\n",
    "    -tstart \"$t1\" -tstop \"$t2\"\\\n",
    "    -gti \"$gti_fn\"\n",
    "```\n",
    "\n",
    "### Step 2: background data\n",
    "```bash\n",
    "t1=\"2025-08-08T03:28:00\"\n",
    "t1=$(echo $(solexs-utc2time \"$t1\") | cut -d' ' -f3)\n",
    "\n",
    "t2=\"2025-08-08T03:29:00\"\n",
    "t2=$(echo $(solexs-utc2time \"$t2\") | cut -d' ' -f3)\n",
    "\n",
    "# Generate a spectrum from the L1 data files\n",
    "spec_fn=\"AL1_SLX_L1_20250808_v1.0/SDD2/AL1_SOLEXS_20250808_SDD2_L1.pi.gz\"\n",
    "gti_fn=\"AL1_SLX_L1_20250808_v1.0/SDD2/AL1_SOLEXS_20250808_SDD2_L1.gti.gz\"\n",
    "\n",
    "solexs-genspec -i \"$spec_fn\" \\\n",
    "    -tstart \"$t1\" -tstop \"$t2\"\\\n",
    "    -gti \"$gti_fn\"\n",
    "```"
   ]
  },
  {
   "cell_type": "code",
   "execution_count": null,
   "id": "b8406abb",
   "metadata": {},
   "outputs": [],
   "source": [
    "data_fn = 'AL1_SOLEXS_20250808_SDD2_L1_225000_225200.pi'\n",
    "flare_data = solexs.read_counts(data_fn)\n",
    "\n",
    "bkg_fn = 'AL1_SOLEXS_20250808_SDD2_L1_222800_222900.pi'\n",
    "bkg_data = solexs.read_counts(bkg_fn)"
   ]
  },
  {
   "cell_type": "code",
   "execution_count": null,
   "id": "0fde0fe6",
   "metadata": {},
   "outputs": [],
   "source": [
    "# Now, load in the response data, using the paths output by the SoLEXS tools\n",
    "\n",
    "arf_fn = 'solexs_tools-1.1/CALDB/arf/solexs_arf_SDD2_v1.arf'\n",
    "rmf_fn = 'solexs_tools-1.1/CALDB/response/rmf/solexs_gaussian_SDD2_v1.rmf'\n",
    "\n",
    "# Put the arf and rmf data into one dict,\n",
    "# but keep the information separated by keys\n",
    "response_data = (\n",
    "    solexs.read_arf(arf_fn) |\n",
    "    solexs.read_rmf(rmf_fn)\n",
    ")"
   ]
  },
  {
   "cell_type": "markdown",
   "id": "ea9e375a",
   "metadata": {},
   "source": [
    "## Now that the data and response matrices have been loaded, let's define our models."
   ]
  },
  {
   "cell_type": "code",
   "execution_count": null,
   "id": "57c6dbb1",
   "metadata": {},
   "outputs": [],
   "source": [
    "from yaff import common_models, common_likelihoods\n",
    "from yaff import fitting\n",
    "import importlib\n",
    "_ = importlib.reload(common_models)"
   ]
  },
  {
   "cell_type": "code",
   "execution_count": null,
   "id": "5e32267f",
   "metadata": {},
   "outputs": [],
   "source": [
    "default_abun_type = 'sun_coronal_ext'\n",
    "atomic_numbers = {\n",
    "    'mg': 12, 'al': 13,\n",
    "    'si': 14, 's': 16,\n",
    "    'ar': 18, 'ca': 20,\n",
    "    'fe': 26\n",
    "}\n",
    "\n",
    "def thermal_with_relative_abundances(args: dict[str, object]):\n",
    "    # As of August 2025, there is a bug in sunkit-spex where the\n",
    "    # abundance table is modified each time a relative abundance is used.\n",
    "    # So we hack around that here by restoring the original table each iteration\n",
    "    # of the following model function.\n",
    "    import copy\n",
    "    from sunkit_spex.legacy import thermal\n",
    "    original_abundances = copy.deepcopy(thermal.DEFAULT_ABUNDANCES)\n",
    "\n",
    "    energies: np.ndarray = args['photon_energy_edges']\n",
    "    params: dict[str, fitting.Parameter] = args['parameters']\n",
    "\n",
    "    # For every atomic number given,\n",
    "    # scale the default abundances by the coronal values.\n",
    "    rel_abuns = list()\n",
    "    for (k, v) in params.items():\n",
    "        if k not in atomic_numbers:\n",
    "            continue\n",
    "        rel_abuns.append((atomic_numbers[k], float(v.value)))\n",
    "\n",
    "    ret = thermal.thermal_emission(\n",
    "        energies << u.keV,\n",
    "        temperature=params['temperature'].as_quantity(),\n",
    "        emission_measure=params['emission_measure'].as_quantity(),\n",
    "        abundance_type=default_abun_type,\n",
    "        relative_abundances=rel_abuns\n",
    "    ).to_value(u.ph / u.cm**2 / u.keV / u.s)\n",
    "\n",
    "    # Hack: restore original abundances\n",
    "    thermal.DEFAULT_ABUNDANCES = original_abundances\n",
    "    return ret"
   ]
  },
  {
   "cell_type": "markdown",
   "id": "d22c1b0f",
   "metadata": {},
   "source": [
    "## After defining the models, set up the data packet for the `yaff.BayesFitter`"
   ]
  },
  {
   "cell_type": "code",
   "execution_count": null,
   "id": "94ca9305",
   "metadata": {},
   "outputs": [],
   "source": [
    "# Cut out any photon bins < 1.5 keV\n",
    "# (thermal emission function doesn't like it)\n",
    "ph_bins = response_data['photon_energy_bins']\n",
    "mids = ph_bins[:-1] + np.diff(ph_bins) / 2\n",
    "\n",
    "lower_limit = 2.5 << u.keV\n",
    "keep = (mids > lower_limit)\n",
    "keep_edges = (ph_bins >= lower_limit)\n",
    "\n",
    "# The background counts need to get scaled by the ratio of effective exposures\n",
    "# between the observation window and the background window\n",
    "exposure_scale = bkg_data['exposure'] / flare_data['exposure']\n",
    "\n",
    "# Assemble all the data we have for this fit\n",
    "dp = fitting.DataPacket(\n",
    "    counts=flare_data['counts'],\n",
    "    counts_error=flare_data['counts_error'],\n",
    "    background_counts=bkg_data['counts'] * exposure_scale,\n",
    "    background_counts_error=bkg_data['counts_error'] * exposure_scale,\n",
    "    effective_exposure=flare_data['exposure'],\n",
    "    count_energy_edges=response_data['count_energy_bins'],\n",
    "    photon_energy_edges=response_data['photon_energy_bins'][keep_edges],\n",
    "    response_matrix=(response_data['effective_area'][keep] * response_data['redistribution_matrix'][:, keep])\n",
    ")"
   ]
  },
  {
   "cell_type": "markdown",
   "id": "c5672f05",
   "metadata": {},
   "source": [
    "## Define the parameters and priors (bounds), and instantiate the fitter object\n",
    "Note that the gain parameters are automatically added when instantiating a `BayesFitterWithGain`."
   ]
  },
  {
   "cell_type": "code",
   "execution_count": null,
   "id": "d260bb5e",
   "metadata": {},
   "outputs": [],
   "source": [
    "# Now that the model is set up, define the parameters that we care about.\n",
    "\n",
    "params = {\n",
    "    'temperature': fitting.Parameter(20 << u.MK, frozen=False),\n",
    "    'emission_measure': fitting.Parameter(0.5 << (1e49 * u.cm**-3), frozen=False),\n",
    "}\n",
    "\n",
    "log_priors = {\n",
    "    'temperature': fitting.simple_bounds(4, 30),\n",
    "    'emission_measure': fitting.simple_bounds(1e-3, 1e3)\n",
    "}\n",
    "\n",
    "rng = np.random.default_rng()\n",
    "# There are a lot of elements we can vary, so add them with a loop.\n",
    "# You could fit more elements if you want, but you'll need to update the dict above the model.\n",
    "elemental_params = ['fe', 'ca', 'ar']\n",
    "for n in elemental_params:\n",
    "    params[n] = fitting.Parameter(1.0 << u.one, frozen=False)\n",
    "    log_priors[n] = fitting.simple_bounds(0.01, 3.0)\n",
    "\n",
    "# Fit only from 3 to 12 keV, as the response at lower energies\n",
    "# is not calibrated yet\n",
    "lowe, highe = 3, 10\n",
    "mids = dp.count_energy_mids\n",
    "likelihood = common_likelihoods.chi_squared_factory(\n",
    "    restriction=(fit_restriction := (lowe < mids) & (mids < highe))\n",
    ")\n",
    "\n",
    "# Note that we're using a BayesFitterWithGain: it adds in the gain slope/offset params\n",
    "fr = fitting.BayesFitterWithGain(\n",
    "    data=dp,\n",
    "    model_function=thermal_with_relative_abundances,\n",
    "    parameters=params,\n",
    "    log_priors=log_priors,\n",
    "    log_likelihood=likelihood,\n",
    ")"
   ]
  },
  {
   "cell_type": "code",
   "execution_count": null,
   "id": "245fef5a",
   "metadata": {},
   "outputs": [],
   "source": [
    "# Let's plot the model just to make sure we have an OK starting guess\n",
    "# We don't fit below ~2 keV because the response is still being developed.\n",
    "fig = plt.figure()\n",
    "ret = yap.plot_data_model(fr, fig=fig)\n",
    "ret['data_ax'].set_title('Initial model guess (black)')\n",
    "ret['data_ax'].set(ylim=(0.1, 1e4))\n",
    "plt.show()"
   ]
  },
  {
   "cell_type": "code",
   "execution_count": null,
   "id": "12f867ee",
   "metadata": {},
   "outputs": [],
   "source": [
    "# We want the gain slope and offset to both be free\n",
    "fr.parameters['gain_slope'].frozen = False\n",
    "fr.parameters['gain_offset'].frozen = False\n",
    "\n",
    "pprint.pprint(fr.parameters)"
   ]
  },
  {
   "cell_type": "markdown",
   "id": "3db7333d",
   "metadata": {},
   "source": [
    "## We need to be a bit careful when fitting abundances...\n",
    "Read the comments for more info"
   ]
  },
  {
   "cell_type": "code",
   "execution_count": null,
   "id": "a48f4b81",
   "metadata": {},
   "outputs": [],
   "source": [
    "# Perform an initial minimization using Levenberg-Marquadt\n",
    "fr = fitting.levenberg_minimize(\n",
    "    fr,\n",
    "    restriction=fit_restriction,\n",
    "    # Abundances don't make a huge difference on the function evaluations,\n",
    "    # so give the fitter a little more than default wiggle room\n",
    "    # so we don't get stuck forever...!\n",
    "    # (default stopping criteria being [ftol = dF/F = 1e-8])\n",
    "    ftol=1e-4,\n",
    "    # A 3-point Jacobian is important for fitting the abundances.\n",
    "    jac='3-point'\n",
    ")"
   ]
  },
  {
   "cell_type": "code",
   "execution_count": null,
   "id": "aa60a42b",
   "metadata": {},
   "outputs": [],
   "source": [
    "# The fit parameters look good\n",
    "fr.parameters"
   ]
  },
  {
   "cell_type": "code",
   "execution_count": null,
   "id": "80750d2e",
   "metadata": {},
   "outputs": [],
   "source": [
    "# Plot the fit to see how it looks\n",
    "fig = plt.figure()\n",
    "ret = yap.plot_data_model(fr, fig=fig)\n",
    "ret['data_ax'].axvspan(lowe, highe, color='purple', alpha=0.1, zorder=-1, label='fit range')\n",
    "ret['data_ax'].legend()\n",
    "\n",
    "ret['data_ax'].set(xlim=(2.5, 14), ylim=(0.1, 1e4))\n",
    "plt.show()"
   ]
  },
  {
   "cell_type": "markdown",
   "id": "3ebc5995",
   "metadata": {},
   "source": [
    "## At this point, the fit looks quite good, but we need uncertainties.\n",
    "You could obtain estimates on the uncertainties like Xspec by finding the 95% posterior\n",
    "    contour on the $\\chi^2$ statistic.\n",
    "\n",
    "That's mathematically difficult. Instead, let's run MCMC."
   ]
  },
  {
   "cell_type": "code",
   "execution_count": null,
   "id": "e38c9c64",
   "metadata": {},
   "outputs": [],
   "source": [
    "# Before running MCMC, freeze the gain parameters (they can go off the rails)\n",
    "# You could try giving them more restrictive priors, too, instead of just freezing them.\n",
    "fr.parameters['gain_slope'].frozen = fr.parameters['gain_offset'].frozen = True\n",
    "\n",
    "fr.run_emcee(\n",
    "    emcee_constructor_kw={'nwalkers': 20},\n",
    "    emcee_run_kw={'nsteps': 1000}\n",
    ")"
   ]
  },
  {
   "cell_type": "code",
   "execution_count": null,
   "id": "8e2abefe",
   "metadata": {},
   "outputs": [],
   "source": [
    "fig = plt.figure(layout='constrained', figsize=(8, 20))\n",
    "yap.plot_parameter_chains(\n",
    "    fr,\n",
    "    fr.free_param_names,\n",
    "    fr.free_parameters,\n",
    "    fig=fig\n",
    ")\n",
    "\n",
    "# The figure is too large to display; save it to a PNG\n",
    "fig.savefig('solexs-abundances.png', dpi=300)\n",
    "plt.show()\n",
    "plt.close(fig)"
   ]
  },
  {
   "cell_type": "code",
   "execution_count": null,
   "id": "c93a0ad9",
   "metadata": {},
   "outputs": [],
   "source": [
    "# Let's generate some samples from the \n",
    "samples = fr.generate_model_samples(100)\n",
    "ret = yap.plot_data_model(fr, samples)\n",
    "ret['data_ax'].axvspan(lowe, highe, color='purple', alpha=0.1, zorder=-1, label='fit range')\n",
    "ret['data_ax'].legend()\n",
    "\n",
    "ret['data_ax'].set(xlim=(2.5, 14), ylim=(0.1, 1e4))\n",
    "plt.show()"
   ]
  },
  {
   "cell_type": "markdown",
   "id": "f2cb8484",
   "metadata": {},
   "source": [
    "## The fit looks nice. Let's look at corner plots"
   ]
  },
  {
   "cell_type": "code",
   "execution_count": null,
   "id": "74dd9b0a",
   "metadata": {},
   "outputs": [],
   "source": [
    "fig = plt.figure(layout='tight', figsize=(20, 20))\n",
    "burn = (20 * fr.emcee_sampler.nwalkers)\n",
    "yap.corner_plot(fr, burnin=burn, fig=fig)\n",
    "fig.savefig('solexs-corner.png', dpi=300)\n",
    "plt.show()\n",
    "plt.close(fig)"
   ]
  },
  {
   "cell_type": "markdown",
   "id": "81df2921",
   "metadata": {},
   "source": [
    "## Most parameters seem to have converged to sensible posterior distributions. Magnesium looks useless."
   ]
  }
 ],
 "metadata": {
  "kernelspec": {
   "display_name": "yaff",
   "language": "python",
   "name": "python3"
  },
  "language_info": {
   "codemirror_mode": {
    "name": "ipython",
    "version": 3
   },
   "file_extension": ".py",
   "mimetype": "text/x-python",
   "name": "python",
   "nbconvert_exporter": "python",
   "pygments_lexer": "ipython3",
   "version": "3.13.0"
  }
 },
 "nbformat": 4,
 "nbformat_minor": 5
}
